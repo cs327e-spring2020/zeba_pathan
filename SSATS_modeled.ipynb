{
 "cells": [
  {
   "cell_type": "code",
   "execution_count": 1,
   "metadata": {},
   "outputs": [
    {
     "name": "stdout",
     "output_type": "stream",
     "text": [
      "Dataset 'first-planet-266901:ssats_modeled' successfully created.\n"
     ]
    }
   ],
   "source": [
    "dataset_id = \"ssats_modeled\"\n",
    "!bq --location=US mk --dataset {dataset_id}"
   ]
  },
  {
   "cell_type": "markdown",
   "metadata": {},
   "source": [
    "### create new modeled tables using CTAS statements"
   ]
  },
  {
   "cell_type": "code",
   "execution_count": 34,
   "metadata": {},
   "outputs": [
    {
     "data": {
      "text/html": [
       "<div>\n",
       "<style scoped>\n",
       "    .dataframe tbody tr th:only-of-type {\n",
       "        vertical-align: middle;\n",
       "    }\n",
       "\n",
       "    .dataframe tbody tr th {\n",
       "        vertical-align: top;\n",
       "    }\n",
       "\n",
       "    .dataframe thead th {\n",
       "        text-align: right;\n",
       "    }\n",
       "</style>\n",
       "<table border=\"1\" class=\"dataframe\">\n",
       "  <thead>\n",
       "    <tr style=\"text-align: right;\">\n",
       "      <th></th>\n",
       "    </tr>\n",
       "  </thead>\n",
       "  <tbody>\n",
       "  </tbody>\n",
       "</table>\n",
       "</div>"
      ],
      "text/plain": [
       "Empty DataFrame\n",
       "Columns: []\n",
       "Index: []"
      ]
     },
     "execution_count": 34,
     "metadata": {},
     "output_type": "execute_result"
    }
   ],
   "source": [
    "%%bigquery\n",
    "\n",
    "CREATE TABLE ssats_modeled.facility_information AS\n",
    "SELECT *\n",
    "FROM\n",
    "(SELECT DISTINCT CASEID, STATE, CAST(CASE WHEN CTYPEHI2 = 1 THEN 'Yes' WHEN CTYPEHI2 = 0 THEN 'No' ELSE Null END as String) as CTYPEHI2, CTYPE1, OWNE_2SHP AS OWNERSHP,\n",
    "FROM ssats_staging. ssats_2018_u\n",
    "WHERE CASEI_3 IS NOT NULL\n",
    "UNION DISTINCT\n",
    " \n",
    "SELECT DISTINCT CASEID, STATE, CAST(CASE WHEN CTYPEHI2 = 1 THEN 'Yes' WHEN CTYPEHI2 = 0 THEN 'No' ELSE Null END as String) as CTYPEHI2, CTYPE1, OW_5E_2SHP AS OWNERSHP,\n",
    "FROM ssats_staging. ssats_2017_u\n",
    "WHERE CASEI_3 IS NOT NULL\n",
    "UNION DISTINCT\n",
    "\n",
    "SELECT DISTINCT CASEID, STATE, CAST(CASE WHEN CTYPEHI2 = 1 THEN 'Yes' WHEN CTYPEHI2 = 0 THEN 'No' ELSE Null END as String) as CTYPEHI2, CTYPE1, OWNE_2SHP AS OWNERSHP,\n",
    "FROM ssats_staging. ssats_2016_u\n",
    "WHERE CASEI_3 IS NOT NULL\n",
    "UNION DISTINCT \n",
    " \n",
    "SELECT DISTINCT CASEID, STATE, CAST(CASE WHEN CTYPEHI2 = 1 THEN 'Yes' WHEN CTYPEHI2 = 0 THEN 'No' ELSE Null END as String) as CTYPEHI2, CTYPE1, OWNE_2SHP AS OWNERSHP,\n",
    "FROM ssats_staging. ssats_2015_u\n",
    "WHERE CASEI_3 IS NOT NULL\n",
    "UNION DISTINCT \n",
    " \n",
    "SELECT DISTINCT CASEID, STATE, CAST(CASE WHEN CTYPEHI2 = 1 THEN 'Yes' WHEN CTYPEHI2 = 0 THEN 'No' ELSE Null END as String) as CTYPEHI2, CTYPE1, OWNE_2SHP AS OWNERSHP,\n",
    "FROM ssats_staging. ssats_2014_u\n",
    "WHERE CASEI_3 IS NOT NULL)\n",
    "\n",
    "\n",
    "ORDER BY STATE;\n"
   ]
  },
  {
   "cell_type": "code",
   "execution_count": 39,
   "metadata": {},
   "outputs": [
    {
     "data": {
      "text/html": [
       "<div>\n",
       "<style scoped>\n",
       "    .dataframe tbody tr th:only-of-type {\n",
       "        vertical-align: middle;\n",
       "    }\n",
       "\n",
       "    .dataframe tbody tr th {\n",
       "        vertical-align: top;\n",
       "    }\n",
       "\n",
       "    .dataframe thead th {\n",
       "        text-align: right;\n",
       "    }\n",
       "</style>\n",
       "<table border=\"1\" class=\"dataframe\">\n",
       "  <thead>\n",
       "    <tr style=\"text-align: right;\">\n",
       "      <th></th>\n",
       "    </tr>\n",
       "  </thead>\n",
       "  <tbody>\n",
       "  </tbody>\n",
       "</table>\n",
       "</div>"
      ],
      "text/plain": [
       "Empty DataFrame\n",
       "Columns: []\n",
       "Index: []"
      ]
     },
     "execution_count": 39,
     "metadata": {},
     "output_type": "execute_result"
    }
   ],
   "source": [
    "%%bigquery\n",
    "\n",
    "CREATE TABLE ssats_modeled.facility_treatment AS\n",
    "SELECT *\n",
    "FROM\n",
    "(SELECT DISTINCT CASEID, OTP, CAST(CASE WHEN T_2EAT_1T = 1 THEN 'Yes' WHEN T_2EAT_1T = 0 THEN 'No' ELSE Null END as String) as TREATMT, S_2VC71 AS SRVC71, CTYPEHI1, CTYPE_2C1 AS CTYPERC1, S_2VC85 AS SRVC85,\n",
    "FROM ssats_staging. ssats_2018_u\n",
    "WHERE CASEID IS NOT NULL\n",
    "UNION DISTINCT\n",
    " \n",
    "SELECT DISTINCT CASEID, OTP, CAST(CASE WHEN T_2EAT_1T = 1 THEN 'Yes' WHEN T_2EAT_1T = 0 THEN 'No' ELSE Null END as String) as TREATMT, S_2VC71 AS SRVC71, CTYPEHI1, CTYPE_2C1 AS CTYPERC1, S_2VC85 AS SRVC85,\n",
    "FROM ssats_staging. ssats_2017_u\n",
    "WHERE CASEID IS NOT NULL\n",
    "UNION DISTINCT\n",
    " \n",
    "SELECT DISTINCT CASEID, OTP, CAST(CASE WHEN T_2EAT_1T = 1 THEN 'Yes' WHEN T_2EAT_1T = 0 THEN 'No' ELSE Null END as String) as TREATMT, S_2VC71 AS SRVC71, CTYPEHI1, CTYPE_2C1 AS CTYPERC1, S_2VC85 AS SRVC85,\n",
    "FROM ssats_staging. ssats_2016_u\n",
    "WHERE CASEID IS NOT NULL\n",
    "UNION DISTINCT\n",
    " \n",
    "SELECT DISTINCT CASEID, OTP, CAST(CASE WHEN T_2EAT_1T = 1 THEN 'Yes' WHEN T_2EAT_1T = 0 THEN 'No' ELSE Null END as String) as TREATMT, S_2VC71 AS SRVC71, CTYPEHI1, CTYPE_2C1 AS CTYPERC1, S_2VC85 AS SRVC85,\n",
    "FROM ssats_staging. ssats_2015_u\n",
    "WHERE CASEID IS NOT NULL\n",
    "UNION DISTINCT\n",
    " \n",
    "SELECT DISTINCT CASEID, OTP, CAST(CASE WHEN T_2EAT_1T = 1 THEN 'Yes' WHEN T_2EAT_1T = 0 THEN 'No' ELSE Null END as String) as TREATMT, S_2VC71 AS SRVC71, CTYPEHI1, CTYPE_2C1 AS CTYPERC1, S_2VC85 AS SRVC85,\n",
    "FROM ssats_staging. ssats_2014_u\n",
    "WHERE CASEID IS NOT NULL)\n",
    "\n",
    "ORDER BY CASEID;\n",
    "\n",
    " "
   ]
  },
  {
   "cell_type": "code",
   "execution_count": 35,
   "metadata": {},
   "outputs": [
    {
     "data": {
      "text/html": [
       "<div>\n",
       "<style scoped>\n",
       "    .dataframe tbody tr th:only-of-type {\n",
       "        vertical-align: middle;\n",
       "    }\n",
       "\n",
       "    .dataframe tbody tr th {\n",
       "        vertical-align: top;\n",
       "    }\n",
       "\n",
       "    .dataframe thead th {\n",
       "        text-align: right;\n",
       "    }\n",
       "</style>\n",
       "<table border=\"1\" class=\"dataframe\">\n",
       "  <thead>\n",
       "    <tr style=\"text-align: right;\">\n",
       "      <th></th>\n",
       "    </tr>\n",
       "  </thead>\n",
       "  <tbody>\n",
       "  </tbody>\n",
       "</table>\n",
       "</div>"
      ],
      "text/plain": [
       "Empty DataFrame\n",
       "Columns: []\n",
       "Index: []"
      ]
     },
     "execution_count": 35,
     "metadata": {},
     "output_type": "execute_result"
    }
   ],
   "source": [
    "%%bigquery\n",
    "\n",
    "CREATE TABLE ssats_modeled.facility_services AS\n",
    "SELECT *\n",
    "FROM\n",
    "(SELECT DISTINCT CASEID, CAST(CASE WHEN SIGNLANG = 1 THEN 'Yes' WHEN SIGNLANG = 0 THEN 'No' ELSE Null END as String) as SIGNLANG, CTYPE_1L AS CTYPEML, LANG16, S_2VC108 AS SRVC108,S_2VC113 AS SRVC113,\n",
    "FROM ssats_staging. ssats_2018_u\n",
    "WHERE CASEID IS NOT NULL\n",
    "UNION DISTINCT\n",
    " \n",
    "SELECT DISTINCT CASEID,CAST(CASE WHEN SIG_5LA_5G = 1 THEN 'Yes' WHEN SIG_5LA_5G = 0 THEN 'No' ELSE Null END as String) as SIGNLANG, CTYPE_1L AS CTYPEML, LA_5G16 AS LANG16, S_2VC108 AS SRVC108,S_2VC113 AS SRVC113,\n",
    "FROM ssats_staging. ssats_2017_u\n",
    "WHERE CASEID IS NOT NULL\n",
    "UNION DISTINCT\n",
    " \n",
    "SELECT DISTINCT CASEID, CAST(CASE WHEN SIGNLANG = 1 THEN 'Yes' WHEN SIGNLANG = 0 THEN 'No' ELSE Null END as String) as SIGNLANG, CTYPE_1L AS CTYPEML, LANG16, S_2VC108 AS SRVC108,S_2VC113 AS SRVC113,\n",
    "FROM ssats_staging. ssats_2016_u\n",
    "WHERE CASEID IS NOT NULL\n",
    "UNION DISTINCT\n",
    " \n",
    "SELECT DISTINCT CASEID, CAST(CASE WHEN SIGNLANG = 1 THEN 'Yes' WHEN SIGNLANG = 0 THEN 'No' ELSE Null END as String) as SIGNLANG, CTYPE_1L AS CTYPEML, LANG16, S_2VC108 AS SRVC108,S_2VC113 AS SRVC113,\n",
    "FROM ssats_staging. ssats_2015_u\n",
    "WHERE CASEID IS NOT NULL\n",
    "UNION DISTINCT\n",
    " \n",
    "SELECT DISTINCT CASEID, CAST(CASE WHEN SIGNLANG = 1 THEN 'Yes' WHEN SIGNLANG = 0 THEN 'No' ELSE Null END as String) as SIGNLANG, CTYPE_1L AS CTYPEML, LANG16, S_2VC108 AS SRVC108, S_2VC113 AS SRVC113,\n",
    "FROM ssats_staging. ssats_2014_u\n",
    "WHERE CASEID IS NOT NULL)\n",
    "\n",
    "ORDER BY CASEID\n"
   ]
  },
  {
   "cell_type": "markdown",
   "metadata": {},
   "source": [
    "### check for primary key"
   ]
  },
  {
   "cell_type": "code",
   "execution_count": 36,
   "metadata": {},
   "outputs": [
    {
     "data": {
      "text/html": [
       "<div>\n",
       "<style scoped>\n",
       "    .dataframe tbody tr th:only-of-type {\n",
       "        vertical-align: middle;\n",
       "    }\n",
       "\n",
       "    .dataframe tbody tr th {\n",
       "        vertical-align: top;\n",
       "    }\n",
       "\n",
       "    .dataframe thead th {\n",
       "        text-align: right;\n",
       "    }\n",
       "</style>\n",
       "<table border=\"1\" class=\"dataframe\">\n",
       "  <thead>\n",
       "    <tr style=\"text-align: right;\">\n",
       "      <th></th>\n",
       "      <th>f0_</th>\n",
       "    </tr>\n",
       "  </thead>\n",
       "  <tbody>\n",
       "    <tr>\n",
       "      <th>0</th>\n",
       "      <td>70818</td>\n",
       "    </tr>\n",
       "  </tbody>\n",
       "</table>\n",
       "</div>"
      ],
      "text/plain": [
       "     f0_\n",
       "0  70818"
      ]
     },
     "execution_count": 36,
     "metadata": {},
     "output_type": "execute_result"
    }
   ],
   "source": [
    "%%bigquery\n",
    "select count(*) from ssats_modeled.facility_information"
   ]
  },
  {
   "cell_type": "code",
   "execution_count": 37,
   "metadata": {},
   "outputs": [
    {
     "data": {
      "text/html": [
       "<div>\n",
       "<style scoped>\n",
       "    .dataframe tbody tr th:only-of-type {\n",
       "        vertical-align: middle;\n",
       "    }\n",
       "\n",
       "    .dataframe tbody tr th {\n",
       "        vertical-align: top;\n",
       "    }\n",
       "\n",
       "    .dataframe thead th {\n",
       "        text-align: right;\n",
       "    }\n",
       "</style>\n",
       "<table border=\"1\" class=\"dataframe\">\n",
       "  <thead>\n",
       "    <tr style=\"text-align: right;\">\n",
       "      <th></th>\n",
       "      <th>f0_</th>\n",
       "    </tr>\n",
       "  </thead>\n",
       "  <tbody>\n",
       "    <tr>\n",
       "      <th>0</th>\n",
       "      <td>70818</td>\n",
       "    </tr>\n",
       "  </tbody>\n",
       "</table>\n",
       "</div>"
      ],
      "text/plain": [
       "     f0_\n",
       "0  70818"
      ]
     },
     "execution_count": 37,
     "metadata": {},
     "output_type": "execute_result"
    }
   ],
   "source": [
    "%%bigquery\n",
    "select count(distinct CASEID) from ssats_modeled.facility_information"
   ]
  },
  {
   "cell_type": "code",
   "execution_count": 40,
   "metadata": {},
   "outputs": [
    {
     "data": {
      "text/html": [
       "<div>\n",
       "<style scoped>\n",
       "    .dataframe tbody tr th:only-of-type {\n",
       "        vertical-align: middle;\n",
       "    }\n",
       "\n",
       "    .dataframe tbody tr th {\n",
       "        vertical-align: top;\n",
       "    }\n",
       "\n",
       "    .dataframe thead th {\n",
       "        text-align: right;\n",
       "    }\n",
       "</style>\n",
       "<table border=\"1\" class=\"dataframe\">\n",
       "  <thead>\n",
       "    <tr style=\"text-align: right;\">\n",
       "      <th></th>\n",
       "      <th>f0_</th>\n",
       "    </tr>\n",
       "  </thead>\n",
       "  <tbody>\n",
       "    <tr>\n",
       "      <th>0</th>\n",
       "      <td>70818</td>\n",
       "    </tr>\n",
       "  </tbody>\n",
       "</table>\n",
       "</div>"
      ],
      "text/plain": [
       "     f0_\n",
       "0  70818"
      ]
     },
     "execution_count": 40,
     "metadata": {},
     "output_type": "execute_result"
    }
   ],
   "source": [
    "%%bigquery\n",
    "select count(*) from ssats_modeled.facility_treatment"
   ]
  },
  {
   "cell_type": "code",
   "execution_count": 41,
   "metadata": {},
   "outputs": [
    {
     "data": {
      "text/html": [
       "<div>\n",
       "<style scoped>\n",
       "    .dataframe tbody tr th:only-of-type {\n",
       "        vertical-align: middle;\n",
       "    }\n",
       "\n",
       "    .dataframe tbody tr th {\n",
       "        vertical-align: top;\n",
       "    }\n",
       "\n",
       "    .dataframe thead th {\n",
       "        text-align: right;\n",
       "    }\n",
       "</style>\n",
       "<table border=\"1\" class=\"dataframe\">\n",
       "  <thead>\n",
       "    <tr style=\"text-align: right;\">\n",
       "      <th></th>\n",
       "      <th>f0_</th>\n",
       "    </tr>\n",
       "  </thead>\n",
       "  <tbody>\n",
       "    <tr>\n",
       "      <th>0</th>\n",
       "      <td>70818</td>\n",
       "    </tr>\n",
       "  </tbody>\n",
       "</table>\n",
       "</div>"
      ],
      "text/plain": [
       "     f0_\n",
       "0  70818"
      ]
     },
     "execution_count": 41,
     "metadata": {},
     "output_type": "execute_result"
    }
   ],
   "source": [
    "%%bigquery\n",
    "select count(distinct CASEID) from ssats_modeled.facility_treatment"
   ]
  },
  {
   "cell_type": "code",
   "execution_count": 42,
   "metadata": {},
   "outputs": [
    {
     "data": {
      "text/html": [
       "<div>\n",
       "<style scoped>\n",
       "    .dataframe tbody tr th:only-of-type {\n",
       "        vertical-align: middle;\n",
       "    }\n",
       "\n",
       "    .dataframe tbody tr th {\n",
       "        vertical-align: top;\n",
       "    }\n",
       "\n",
       "    .dataframe thead th {\n",
       "        text-align: right;\n",
       "    }\n",
       "</style>\n",
       "<table border=\"1\" class=\"dataframe\">\n",
       "  <thead>\n",
       "    <tr style=\"text-align: right;\">\n",
       "      <th></th>\n",
       "      <th>f0_</th>\n",
       "    </tr>\n",
       "  </thead>\n",
       "  <tbody>\n",
       "    <tr>\n",
       "      <th>0</th>\n",
       "      <td>70818</td>\n",
       "    </tr>\n",
       "  </tbody>\n",
       "</table>\n",
       "</div>"
      ],
      "text/plain": [
       "     f0_\n",
       "0  70818"
      ]
     },
     "execution_count": 42,
     "metadata": {},
     "output_type": "execute_result"
    }
   ],
   "source": [
    "%%bigquery\n",
    "select count(*) from ssats_modeled.facility_services"
   ]
  },
  {
   "cell_type": "code",
   "execution_count": 43,
   "metadata": {},
   "outputs": [
    {
     "data": {
      "text/html": [
       "<div>\n",
       "<style scoped>\n",
       "    .dataframe tbody tr th:only-of-type {\n",
       "        vertical-align: middle;\n",
       "    }\n",
       "\n",
       "    .dataframe tbody tr th {\n",
       "        vertical-align: top;\n",
       "    }\n",
       "\n",
       "    .dataframe thead th {\n",
       "        text-align: right;\n",
       "    }\n",
       "</style>\n",
       "<table border=\"1\" class=\"dataframe\">\n",
       "  <thead>\n",
       "    <tr style=\"text-align: right;\">\n",
       "      <th></th>\n",
       "      <th>f0_</th>\n",
       "    </tr>\n",
       "  </thead>\n",
       "  <tbody>\n",
       "    <tr>\n",
       "      <th>0</th>\n",
       "      <td>70818</td>\n",
       "    </tr>\n",
       "  </tbody>\n",
       "</table>\n",
       "</div>"
      ],
      "text/plain": [
       "     f0_\n",
       "0  70818"
      ]
     },
     "execution_count": 43,
     "metadata": {},
     "output_type": "execute_result"
    }
   ],
   "source": [
    "%%bigquery\n",
    "select count(distinct CASEID) from ssats_modeled.facility_services"
   ]
  },
  {
   "cell_type": "markdown",
   "metadata": {},
   "source": [
    "### check for foreign key"
   ]
  },
  {
   "cell_type": "code",
   "execution_count": 45,
   "metadata": {},
   "outputs": [
    {
     "data": {
      "text/html": [
       "<div>\n",
       "<style scoped>\n",
       "    .dataframe tbody tr th:only-of-type {\n",
       "        vertical-align: middle;\n",
       "    }\n",
       "\n",
       "    .dataframe tbody tr th {\n",
       "        vertical-align: top;\n",
       "    }\n",
       "\n",
       "    .dataframe thead th {\n",
       "        text-align: right;\n",
       "    }\n",
       "</style>\n",
       "<table border=\"1\" class=\"dataframe\">\n",
       "  <thead>\n",
       "    <tr style=\"text-align: right;\">\n",
       "      <th></th>\n",
       "      <th>f0_</th>\n",
       "    </tr>\n",
       "  </thead>\n",
       "  <tbody>\n",
       "    <tr>\n",
       "      <th>0</th>\n",
       "      <td>0</td>\n",
       "    </tr>\n",
       "  </tbody>\n",
       "</table>\n",
       "</div>"
      ],
      "text/plain": [
       "   f0_\n",
       "0    0"
      ]
     },
     "execution_count": 45,
     "metadata": {},
     "output_type": "execute_result"
    }
   ],
   "source": [
    "%%bigquery\n",
    "\n",
    "SELECT COUNT(*) \n",
    "FROM ssats_modeled.facility_information as t2 \n",
    "LEFT JOIN ssats_modeled.facility_services as t1 ON t2.CASEID = t1.CASEID\n",
    "WHERE t1.CASEID IS NULL"
   ]
  },
  {
   "cell_type": "code",
   "execution_count": 46,
   "metadata": {},
   "outputs": [
    {
     "data": {
      "text/html": [
       "<div>\n",
       "<style scoped>\n",
       "    .dataframe tbody tr th:only-of-type {\n",
       "        vertical-align: middle;\n",
       "    }\n",
       "\n",
       "    .dataframe tbody tr th {\n",
       "        vertical-align: top;\n",
       "    }\n",
       "\n",
       "    .dataframe thead th {\n",
       "        text-align: right;\n",
       "    }\n",
       "</style>\n",
       "<table border=\"1\" class=\"dataframe\">\n",
       "  <thead>\n",
       "    <tr style=\"text-align: right;\">\n",
       "      <th></th>\n",
       "      <th>f0_</th>\n",
       "    </tr>\n",
       "  </thead>\n",
       "  <tbody>\n",
       "    <tr>\n",
       "      <th>0</th>\n",
       "      <td>0</td>\n",
       "    </tr>\n",
       "  </tbody>\n",
       "</table>\n",
       "</div>"
      ],
      "text/plain": [
       "   f0_\n",
       "0    0"
      ]
     },
     "execution_count": 46,
     "metadata": {},
     "output_type": "execute_result"
    }
   ],
   "source": [
    "%%bigquery\n",
    "\n",
    "SELECT COUNT(*) \n",
    "FROM ssats_modeled.facility_services as t2 \n",
    "LEFT JOIN ssats_modeled.facility_information as t1 ON t2.CASEID = t1.CASEID\n",
    "WHERE t1.CASEID IS NULL"
   ]
  },
  {
   "cell_type": "code",
   "execution_count": 47,
   "metadata": {},
   "outputs": [
    {
     "data": {
      "text/html": [
       "<div>\n",
       "<style scoped>\n",
       "    .dataframe tbody tr th:only-of-type {\n",
       "        vertical-align: middle;\n",
       "    }\n",
       "\n",
       "    .dataframe tbody tr th {\n",
       "        vertical-align: top;\n",
       "    }\n",
       "\n",
       "    .dataframe thead th {\n",
       "        text-align: right;\n",
       "    }\n",
       "</style>\n",
       "<table border=\"1\" class=\"dataframe\">\n",
       "  <thead>\n",
       "    <tr style=\"text-align: right;\">\n",
       "      <th></th>\n",
       "      <th>f0_</th>\n",
       "    </tr>\n",
       "  </thead>\n",
       "  <tbody>\n",
       "    <tr>\n",
       "      <th>0</th>\n",
       "      <td>0</td>\n",
       "    </tr>\n",
       "  </tbody>\n",
       "</table>\n",
       "</div>"
      ],
      "text/plain": [
       "   f0_\n",
       "0    0"
      ]
     },
     "execution_count": 47,
     "metadata": {},
     "output_type": "execute_result"
    }
   ],
   "source": [
    "%%bigquery\n",
    "\n",
    "SELECT COUNT(*) \n",
    "FROM ssats_modeled.facility_services as t2 \n",
    "LEFT JOIN ssats_modeled.facility_treatment as t1 ON t2.CASEID = t1.CASEID\n",
    "WHERE t1.CASEID IS NULL"
   ]
  },
  {
   "cell_type": "code",
   "execution_count": 48,
   "metadata": {},
   "outputs": [
    {
     "data": {
      "text/html": [
       "<div>\n",
       "<style scoped>\n",
       "    .dataframe tbody tr th:only-of-type {\n",
       "        vertical-align: middle;\n",
       "    }\n",
       "\n",
       "    .dataframe tbody tr th {\n",
       "        vertical-align: top;\n",
       "    }\n",
       "\n",
       "    .dataframe thead th {\n",
       "        text-align: right;\n",
       "    }\n",
       "</style>\n",
       "<table border=\"1\" class=\"dataframe\">\n",
       "  <thead>\n",
       "    <tr style=\"text-align: right;\">\n",
       "      <th></th>\n",
       "      <th>f0_</th>\n",
       "    </tr>\n",
       "  </thead>\n",
       "  <tbody>\n",
       "    <tr>\n",
       "      <th>0</th>\n",
       "      <td>0</td>\n",
       "    </tr>\n",
       "  </tbody>\n",
       "</table>\n",
       "</div>"
      ],
      "text/plain": [
       "   f0_\n",
       "0    0"
      ]
     },
     "execution_count": 48,
     "metadata": {},
     "output_type": "execute_result"
    }
   ],
   "source": [
    "%%bigquery\n",
    "\n",
    "SELECT COUNT(*) \n",
    "FROM ssats_modeled.facility_treatment as t2 \n",
    "LEFT JOIN ssats_modeled.facility_services as t1 ON t2.CASEID = t1.CASEID\n",
    "WHERE t1.CASEID IS NULL"
   ]
  },
  {
   "cell_type": "code",
   "execution_count": 49,
   "metadata": {},
   "outputs": [
    {
     "data": {
      "text/html": [
       "<div>\n",
       "<style scoped>\n",
       "    .dataframe tbody tr th:only-of-type {\n",
       "        vertical-align: middle;\n",
       "    }\n",
       "\n",
       "    .dataframe tbody tr th {\n",
       "        vertical-align: top;\n",
       "    }\n",
       "\n",
       "    .dataframe thead th {\n",
       "        text-align: right;\n",
       "    }\n",
       "</style>\n",
       "<table border=\"1\" class=\"dataframe\">\n",
       "  <thead>\n",
       "    <tr style=\"text-align: right;\">\n",
       "      <th></th>\n",
       "      <th>f0_</th>\n",
       "    </tr>\n",
       "  </thead>\n",
       "  <tbody>\n",
       "    <tr>\n",
       "      <th>0</th>\n",
       "      <td>0</td>\n",
       "    </tr>\n",
       "  </tbody>\n",
       "</table>\n",
       "</div>"
      ],
      "text/plain": [
       "   f0_\n",
       "0    0"
      ]
     },
     "execution_count": 49,
     "metadata": {},
     "output_type": "execute_result"
    }
   ],
   "source": [
    "%%bigquery\n",
    "\n",
    "SELECT COUNT(*) \n",
    "FROM ssats_modeled.facility_treatment as t2 \n",
    "LEFT JOIN ssats_modeled.facility_information as t1 ON t2.CASEID = t1.CASEID\n",
    "WHERE t1.CASEID IS NULL"
   ]
  },
  {
   "cell_type": "code",
   "execution_count": 50,
   "metadata": {},
   "outputs": [
    {
     "data": {
      "text/html": [
       "<div>\n",
       "<style scoped>\n",
       "    .dataframe tbody tr th:only-of-type {\n",
       "        vertical-align: middle;\n",
       "    }\n",
       "\n",
       "    .dataframe tbody tr th {\n",
       "        vertical-align: top;\n",
       "    }\n",
       "\n",
       "    .dataframe thead th {\n",
       "        text-align: right;\n",
       "    }\n",
       "</style>\n",
       "<table border=\"1\" class=\"dataframe\">\n",
       "  <thead>\n",
       "    <tr style=\"text-align: right;\">\n",
       "      <th></th>\n",
       "      <th>f0_</th>\n",
       "    </tr>\n",
       "  </thead>\n",
       "  <tbody>\n",
       "    <tr>\n",
       "      <th>0</th>\n",
       "      <td>0</td>\n",
       "    </tr>\n",
       "  </tbody>\n",
       "</table>\n",
       "</div>"
      ],
      "text/plain": [
       "   f0_\n",
       "0    0"
      ]
     },
     "execution_count": 50,
     "metadata": {},
     "output_type": "execute_result"
    }
   ],
   "source": [
    "%%bigquery\n",
    "\n",
    "SELECT COUNT(*) \n",
    "FROM ssats_modeled.facility_information as t2 \n",
    "LEFT JOIN ssats_modeled.facility_treatment as t1 ON t2.CASEID = t1.CASEID\n",
    "WHERE t1.CASEID IS NULL"
   ]
  },
  {
   "cell_type": "code",
   "execution_count": null,
   "metadata": {},
   "outputs": [],
   "source": []
  }
 ],
 "metadata": {
  "kernelspec": {
   "display_name": "Python 3",
   "language": "python",
   "name": "python3"
  },
  "language_info": {
   "codemirror_mode": {
    "name": "ipython",
    "version": 3
   },
   "file_extension": ".py",
   "mimetype": "text/x-python",
   "name": "python",
   "nbconvert_exporter": "python",
   "pygments_lexer": "ipython3",
   "version": "3.5.3"
  }
 },
 "nbformat": 4,
 "nbformat_minor": 4
}
