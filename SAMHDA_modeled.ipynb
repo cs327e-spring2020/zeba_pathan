{
 "cells": [
  {
   "cell_type": "code",
   "execution_count": 1,
   "metadata": {},
   "outputs": [
    {
     "name": "stdout",
     "output_type": "stream",
     "text": [
      "Dataset 'first-planet-266901:samhda_modeled' successfully created.\n"
     ]
    }
   ],
   "source": [
    "!bq --location=US mk --dataset samhda_modeled"
   ]
  },
  {
   "cell_type": "code",
   "execution_count": 9,
   "metadata": {},
   "outputs": [],
   "source": [
    "dataset_id = \"samhda_modeled\""
   ]
  },
  {
   "cell_type": "markdown",
   "metadata": {},
   "source": [
    "### create new modeled tables using CTAS statements"
   ]
  },
  {
   "cell_type": "code",
   "execution_count": 33,
   "metadata": {},
   "outputs": [
    {
     "data": {
      "text/html": [
       "<div>\n",
       "<style scoped>\n",
       "    .dataframe tbody tr th:only-of-type {\n",
       "        vertical-align: middle;\n",
       "    }\n",
       "\n",
       "    .dataframe tbody tr th {\n",
       "        vertical-align: top;\n",
       "    }\n",
       "\n",
       "    .dataframe thead th {\n",
       "        text-align: right;\n",
       "    }\n",
       "</style>\n",
       "<table border=\"1\" class=\"dataframe\">\n",
       "  <thead>\n",
       "    <tr style=\"text-align: right;\">\n",
       "      <th></th>\n",
       "    </tr>\n",
       "  </thead>\n",
       "  <tbody>\n",
       "  </tbody>\n",
       "</table>\n",
       "</div>"
      ],
      "text/plain": [
       "Empty DataFrame\n",
       "Columns: []\n",
       "Index: []"
      ]
     },
     "execution_count": 33,
     "metadata": {},
     "output_type": "execute_result"
    }
   ],
   "source": [
    "%%bigquery\n",
    "\n",
    "CREATE TABLE samhda_modeled.facility_information AS\n",
    "SELECT generate_uuid() as CASEID, *\n",
    "FROM\n",
    "(SELECT DISTINCT LST, CAST(CASE WHEN MHINTAKE = 1 THEN 'Yes' WHEN MHINTAKE = 0 THEN 'No' ELSE Null END as String) as MHINTAKE, SETTINGIP, SETTINGOP, FACILITYTYPE, OWNERSHP, CHILDAD,\n",
    "FROM samhda_staging. samhda_2018\n",
    "WHERE CASEID IS NOT NULL\n",
    "UNION DISTINCT\n",
    " \n",
    "SELECT DISTINCT LST, CAST(CASE WHEN MHINTAKE = 1 THEN 'Yes' WHEN MHINTAKE = 0 THEN 'No' ELSE Null END as String) as MHINTAKE, SETTINGIP, SETTINGOP, FACILITYTYPE, OWNERSHP, CHILDAD,\n",
    "FROM samhda_staging. samhda_2017\n",
    "WHERE CASEID IS NOT NULL\n",
    "UNION DISTINCT\n",
    " \n",
    "SELECT DISTINCT LST, CAST(CASE WHEN MHINTAKE = 1 THEN 'Yes' WHEN MHINTAKE = 0 THEN 'No' ELSE Null END as String) as MHINTAKE, SETTINGIP, SETTINGOP, FACILITYTYPE, OWNERSHP, CHILDAD,\n",
    "FROM samhda_staging. samhda_2016\n",
    "WHERE CASEID IS NOT NULL\n",
    "UNION DISTINCT\n",
    "\n",
    "SELECT DISTINCT LST, CAST(CASE WHEN MHINTAKE = 1 THEN 'Yes' WHEN MHINTAKE = 0 THEN 'No' ELSE Null END as String) as MHINTAKE, SETTINGIP, SETTINGOP, FACILITYTYPE, OWNERSHP, CHILDAD,\n",
    "FROM samhda_staging. samhda_2015\n",
    "WHERE CASEID IS NOT NULL\n",
    "UNION DISTINCT\n",
    "\n",
    "SELECT DISTINCT LST, CAST(CASE WHEN MHINTAKE = 1 THEN 'Yes' WHEN MHINTAKE = 0 THEN 'No' ELSE Null END as String) as MHINTAKE, SETTINGIP, SETTINGOP, FACILITYTYPE, OWNERSHP, CHILDAD,\n",
    "FROM samhda_staging. samhda_2014\n",
    "WHERE CASEID IS NOT NULL)\n",
    "\n",
    "\n",
    "\n",
    "ORDER BY LST;\n",
    " \n",
    " \n",
    " "
   ]
  },
  {
   "cell_type": "code",
   "execution_count": 34,
   "metadata": {},
   "outputs": [
    {
     "data": {
      "text/html": [
       "<div>\n",
       "<style scoped>\n",
       "    .dataframe tbody tr th:only-of-type {\n",
       "        vertical-align: middle;\n",
       "    }\n",
       "\n",
       "    .dataframe tbody tr th {\n",
       "        vertical-align: top;\n",
       "    }\n",
       "\n",
       "    .dataframe thead th {\n",
       "        text-align: right;\n",
       "    }\n",
       "</style>\n",
       "<table border=\"1\" class=\"dataframe\">\n",
       "  <thead>\n",
       "    <tr style=\"text-align: right;\">\n",
       "      <th></th>\n",
       "    </tr>\n",
       "  </thead>\n",
       "  <tbody>\n",
       "  </tbody>\n",
       "</table>\n",
       "</div>"
      ],
      "text/plain": [
       "Empty DataFrame\n",
       "Columns: []\n",
       "Index: []"
      ]
     },
     "execution_count": 34,
     "metadata": {},
     "output_type": "execute_result"
    }
   ],
   "source": [
    "%%bigquery\n",
    "\n",
    "CREATE TABLE samhda_modeled.facility_treatment AS\n",
    "SELECT generate_uuid() as CASEID, *\n",
    "FROM\n",
    "\n",
    "(SElECT DISTINCT CAST(CASE WHEN TREATMT = 1 THEN 'Yes' WHEN MHINTAKE = 0 THEN 'No' ELSE Null END as String) as TREATMT, TREATGRPTHRPY, TREATCOGTHRPY, TREATTRAUMATHRPY, ALZHDEMENTIA, SRVC31, SPECGRPEATING, TRAUMATICBRAIN,\n",
    "FROM samhda_staging. samhda_2018\n",
    "WHERE CASEID IS NOT NULL\n",
    "UNION DISTINCT\n",
    " \n",
    "SElECT DISTINCT CAST(CASE WHEN TREATMT = 1 THEN 'Yes' WHEN MHINTAKE = 0 THEN 'No' ELSE Null END as String) as TREATMT, TREATGRPTHRPY, TREATCOGTHRPY, TREATTRAUMATHRPY, ALZHDEMENTIA, SRVC31, SPECGRPEATING, TRAUMATICBRAIN,\n",
    "FROM samhda_staging. samhda_2017\n",
    "WHERE CASEID IS NOT NULL\n",
    "UNION DISTINCT\n",
    " \n",
    "SElECT DISTINCT CAST(CASE WHEN TREATMT = 1 THEN 'Yes' WHEN MHINTAKE = 0 THEN 'No' ELSE Null END as String) as TREATMT, TREATGRPTHRPY, TREATCOGTHRPY, TREATTRAUMATHRPY, ALZHDEMENTIA, SRVC31, SPECGRPEATING, TRAUMATICBRAIN,\n",
    "FROM samhda_staging. samhda_2016\n",
    "WHERE CASEID IS NOT NULL\n",
    "UNION DISTINCT\n",
    " \n",
    "SElECT DISTINCT CAST(CASE WHEN TREATMT = 1 THEN 'Yes' WHEN MHINTAKE = 0 THEN 'No' ELSE Null END as String) as TREATMT, TREATGRPTHRPY, TREATCOGTHRPY, TREATTRAUMATHRPY, ALZHDEMENTIA, SRVC31, SPECGRPEATING, TRAUMATICBRAIN,\n",
    "FROM samhda_staging. samhda_2015\n",
    "WHERE CASEID IS NOT NULL\n",
    "UNION DISTINCT\n",
    " \n",
    "SElECT DISTINCT CAST(CASE WHEN TREATMT = 1 THEN 'Yes' WHEN MHINTAKE = 0 THEN 'No' ELSE Null END as String) as TREATMT, TREATGRPTHRPY, TREATCOGTHRPY, TREATTRAUMATHRPY, ALZHDEMENTIA, SRVC31, SPECGRPEATING, TRAUMATICBRAIN,\n",
    "FROM samhda_staging. samhda_2014\n",
    "WHERE CASEID IS NOT NULL)\n",
    "\n",
    "\n",
    " \n",
    "ORDER BY CASEID;"
   ]
  },
  {
   "cell_type": "code",
   "execution_count": 35,
   "metadata": {},
   "outputs": [
    {
     "data": {
      "text/html": [
       "<div>\n",
       "<style scoped>\n",
       "    .dataframe tbody tr th:only-of-type {\n",
       "        vertical-align: middle;\n",
       "    }\n",
       "\n",
       "    .dataframe tbody tr th {\n",
       "        vertical-align: top;\n",
       "    }\n",
       "\n",
       "    .dataframe thead th {\n",
       "        text-align: right;\n",
       "    }\n",
       "</style>\n",
       "<table border=\"1\" class=\"dataframe\">\n",
       "  <thead>\n",
       "    <tr style=\"text-align: right;\">\n",
       "      <th></th>\n",
       "    </tr>\n",
       "  </thead>\n",
       "  <tbody>\n",
       "  </tbody>\n",
       "</table>\n",
       "</div>"
      ],
      "text/plain": [
       "Empty DataFrame\n",
       "Columns: []\n",
       "Index: []"
      ]
     },
     "execution_count": 35,
     "metadata": {},
     "output_type": "execute_result"
    }
   ],
   "source": [
    "%%bigquery\n",
    "\n",
    "CREATE TABLE samhda_modeled.facility_services AS\n",
    "SELECT generate_uuid() as CASEID, *\n",
    "FROM\n",
    "\n",
    "(SELECT DISTINCT MHINTCASEMGMT, CAST(CASE WHEN MHCHRONIC = 1 THEN 'Yes' WHEN MHCHRONIC = 0 THEN 'No' ELSE Null END as String) as MHCHRONIC, ILLNESSMGMT, PRIMARYCARE,FAMPSYCHED, SUPPHOUSING, SUPPEMPLOY, MHLEGAL, MHEMGCY, MHSUICIDE\n",
    "FROM samhda_staging. samhda_2018\n",
    "WHERE CASEID IS NOT NULL\n",
    "UNION DISTINCT\n",
    " \n",
    "SELECT DISTINCT MHINTCASEMGMT, CAST(CASE WHEN MHCHRONIC = 1 THEN 'Yes' WHEN MHCHRONIC = 0 THEN 'No' ELSE Null END as String) as MHCHRONIC, ILLNESSMGMT, PRIMARYCARE,FAMPSYCHED, SUPPHOUSING, SUPPEMPLOY, MHLEGAL, MHEMGCY, MHSUICIDE\n",
    "FROM samhda_staging. samhda_2017\n",
    "WHERE CASEID IS NOT NULL\n",
    "UNION DISTINCT\n",
    " \n",
    "SELECT DISTINCT MHINTCASEMGMT, CAST(CASE WHEN MHCHRONIC = 1 THEN 'Yes' WHEN MHCHRONIC = 0 THEN 'No' ELSE Null END as String) as MHCHRONIC, ILLNESSMGMT, PRIMARYCARE,FAMPSYCHED, SUPPHOUSING, SUPPEMPLOY, MHLEGAL, MHEMGCY, MHSUICIDE\n",
    "FROM samhda_staging. samhda_2016\n",
    "WHERE CASEID IS NOT NULL\n",
    "UNION DISTINCT\n",
    " \n",
    "SELECT DISTINCT MHINTCASEMGMT, CAST(CASE WHEN MHCHRONIC = 1 THEN 'Yes' WHEN MHCHRONIC = 0 THEN 'No' ELSE Null END as String) as MHCHRONIC, ILLNESSMGMT, PRIMARYCARE,FAMPSYCHED, SUPPHOUSING, SUPPEMPLOY, MHLEGAL, MHEMGCY, MHSUICIDE\n",
    "FROM samhda_staging. samhda_2015\n",
    "WHERE CASEID IS NOT NULL\n",
    "UNION DISTINCT\n",
    " \n",
    "SELECT DISTINCT MHINTCASEMGMT, CAST(CASE WHEN MHCHRONIC = 1 THEN 'Yes' WHEN MHCHRONIC = 0 THEN 'No' ELSE Null END as String) as MHCHRONIC, ILLNESSMGMT, PRIMARYCARE,FAMPSYCHED, SUPPHOUSING, SUPPEMPLOY, MHLEGAL, MHEMGCY, MHSUICIDE\n",
    "FROM samhda_staging. samhda_2015\n",
    "WHERE CASEID IS NOT NULL)\n",
    "\n",
    "ORDER BY CASEID;"
   ]
  },
  {
   "cell_type": "markdown",
   "metadata": {},
   "source": [
    "## Check for Primary Key"
   ]
  },
  {
   "cell_type": "code",
   "execution_count": 37,
   "metadata": {},
   "outputs": [
    {
     "data": {
      "text/html": [
       "<div>\n",
       "<style scoped>\n",
       "    .dataframe tbody tr th:only-of-type {\n",
       "        vertical-align: middle;\n",
       "    }\n",
       "\n",
       "    .dataframe tbody tr th {\n",
       "        vertical-align: top;\n",
       "    }\n",
       "\n",
       "    .dataframe thead th {\n",
       "        text-align: right;\n",
       "    }\n",
       "</style>\n",
       "<table border=\"1\" class=\"dataframe\">\n",
       "  <thead>\n",
       "    <tr style=\"text-align: right;\">\n",
       "      <th></th>\n",
       "      <th>f0_</th>\n",
       "    </tr>\n",
       "  </thead>\n",
       "  <tbody>\n",
       "    <tr>\n",
       "      <th>0</th>\n",
       "      <td>4359</td>\n",
       "    </tr>\n",
       "  </tbody>\n",
       "</table>\n",
       "</div>"
      ],
      "text/plain": [
       "    f0_\n",
       "0  4359"
      ]
     },
     "execution_count": 37,
     "metadata": {},
     "output_type": "execute_result"
    }
   ],
   "source": [
    "%%bigquery\n",
    "select count(*) from samhda_modeled.facility_information"
   ]
  },
  {
   "cell_type": "code",
   "execution_count": 39,
   "metadata": {},
   "outputs": [
    {
     "data": {
      "text/html": [
       "<div>\n",
       "<style scoped>\n",
       "    .dataframe tbody tr th:only-of-type {\n",
       "        vertical-align: middle;\n",
       "    }\n",
       "\n",
       "    .dataframe tbody tr th {\n",
       "        vertical-align: top;\n",
       "    }\n",
       "\n",
       "    .dataframe thead th {\n",
       "        text-align: right;\n",
       "    }\n",
       "</style>\n",
       "<table border=\"1\" class=\"dataframe\">\n",
       "  <thead>\n",
       "    <tr style=\"text-align: right;\">\n",
       "      <th></th>\n",
       "      <th>f0_</th>\n",
       "    </tr>\n",
       "  </thead>\n",
       "  <tbody>\n",
       "    <tr>\n",
       "      <th>0</th>\n",
       "      <td>4359</td>\n",
       "    </tr>\n",
       "  </tbody>\n",
       "</table>\n",
       "</div>"
      ],
      "text/plain": [
       "    f0_\n",
       "0  4359"
      ]
     },
     "execution_count": 39,
     "metadata": {},
     "output_type": "execute_result"
    }
   ],
   "source": [
    "%%bigquery\n",
    "select count(distinct CASEID) from samhda_modeled.facility_information"
   ]
  },
  {
   "cell_type": "code",
   "execution_count": 41,
   "metadata": {},
   "outputs": [
    {
     "data": {
      "text/html": [
       "<div>\n",
       "<style scoped>\n",
       "    .dataframe tbody tr th:only-of-type {\n",
       "        vertical-align: middle;\n",
       "    }\n",
       "\n",
       "    .dataframe tbody tr th {\n",
       "        vertical-align: top;\n",
       "    }\n",
       "\n",
       "    .dataframe thead th {\n",
       "        text-align: right;\n",
       "    }\n",
       "</style>\n",
       "<table border=\"1\" class=\"dataframe\">\n",
       "  <thead>\n",
       "    <tr style=\"text-align: right;\">\n",
       "      <th></th>\n",
       "      <th>f0_</th>\n",
       "    </tr>\n",
       "  </thead>\n",
       "  <tbody>\n",
       "    <tr>\n",
       "      <th>0</th>\n",
       "      <td>540</td>\n",
       "    </tr>\n",
       "  </tbody>\n",
       "</table>\n",
       "</div>"
      ],
      "text/plain": [
       "   f0_\n",
       "0  540"
      ]
     },
     "execution_count": 41,
     "metadata": {},
     "output_type": "execute_result"
    }
   ],
   "source": [
    "%%bigquery\n",
    "select count(*) from samhda_modeled.facility_treatment"
   ]
  },
  {
   "cell_type": "code",
   "execution_count": 40,
   "metadata": {},
   "outputs": [
    {
     "data": {
      "text/html": [
       "<div>\n",
       "<style scoped>\n",
       "    .dataframe tbody tr th:only-of-type {\n",
       "        vertical-align: middle;\n",
       "    }\n",
       "\n",
       "    .dataframe tbody tr th {\n",
       "        vertical-align: top;\n",
       "    }\n",
       "\n",
       "    .dataframe thead th {\n",
       "        text-align: right;\n",
       "    }\n",
       "</style>\n",
       "<table border=\"1\" class=\"dataframe\">\n",
       "  <thead>\n",
       "    <tr style=\"text-align: right;\">\n",
       "      <th></th>\n",
       "      <th>f0_</th>\n",
       "    </tr>\n",
       "  </thead>\n",
       "  <tbody>\n",
       "    <tr>\n",
       "      <th>0</th>\n",
       "      <td>540</td>\n",
       "    </tr>\n",
       "  </tbody>\n",
       "</table>\n",
       "</div>"
      ],
      "text/plain": [
       "   f0_\n",
       "0  540"
      ]
     },
     "execution_count": 40,
     "metadata": {},
     "output_type": "execute_result"
    }
   ],
   "source": [
    "%%bigquery\n",
    "select count(distinct CASEID) from samhda_modeled.facility_treatment"
   ]
  },
  {
   "cell_type": "code",
   "execution_count": 42,
   "metadata": {},
   "outputs": [
    {
     "data": {
      "text/html": [
       "<div>\n",
       "<style scoped>\n",
       "    .dataframe tbody tr th:only-of-type {\n",
       "        vertical-align: middle;\n",
       "    }\n",
       "\n",
       "    .dataframe tbody tr th {\n",
       "        vertical-align: top;\n",
       "    }\n",
       "\n",
       "    .dataframe thead th {\n",
       "        text-align: right;\n",
       "    }\n",
       "</style>\n",
       "<table border=\"1\" class=\"dataframe\">\n",
       "  <thead>\n",
       "    <tr style=\"text-align: right;\">\n",
       "      <th></th>\n",
       "      <th>f0_</th>\n",
       "    </tr>\n",
       "  </thead>\n",
       "  <tbody>\n",
       "    <tr>\n",
       "      <th>0</th>\n",
       "      <td>792</td>\n",
       "    </tr>\n",
       "  </tbody>\n",
       "</table>\n",
       "</div>"
      ],
      "text/plain": [
       "   f0_\n",
       "0  792"
      ]
     },
     "execution_count": 42,
     "metadata": {},
     "output_type": "execute_result"
    }
   ],
   "source": [
    "%%bigquery\n",
    "select count(*) from samhda_modeled.facility_services"
   ]
  },
  {
   "cell_type": "code",
   "execution_count": 43,
   "metadata": {},
   "outputs": [
    {
     "data": {
      "text/html": [
       "<div>\n",
       "<style scoped>\n",
       "    .dataframe tbody tr th:only-of-type {\n",
       "        vertical-align: middle;\n",
       "    }\n",
       "\n",
       "    .dataframe tbody tr th {\n",
       "        vertical-align: top;\n",
       "    }\n",
       "\n",
       "    .dataframe thead th {\n",
       "        text-align: right;\n",
       "    }\n",
       "</style>\n",
       "<table border=\"1\" class=\"dataframe\">\n",
       "  <thead>\n",
       "    <tr style=\"text-align: right;\">\n",
       "      <th></th>\n",
       "      <th>f0_</th>\n",
       "    </tr>\n",
       "  </thead>\n",
       "  <tbody>\n",
       "    <tr>\n",
       "      <th>0</th>\n",
       "      <td>792</td>\n",
       "    </tr>\n",
       "  </tbody>\n",
       "</table>\n",
       "</div>"
      ],
      "text/plain": [
       "   f0_\n",
       "0  792"
      ]
     },
     "execution_count": 43,
     "metadata": {},
     "output_type": "execute_result"
    }
   ],
   "source": [
    "%%bigquery\n",
    "select count(distinct CASEID) from samhda_modeled.facility_services"
   ]
  },
  {
   "cell_type": "code",
   "execution_count": null,
   "metadata": {},
   "outputs": [],
   "source": []
  }
 ],
 "metadata": {
  "kernelspec": {
   "display_name": "Python 3",
   "language": "python",
   "name": "python3"
  },
  "language_info": {
   "codemirror_mode": {
    "name": "ipython",
    "version": 3
   },
   "file_extension": ".py",
   "mimetype": "text/x-python",
   "name": "python",
   "nbconvert_exporter": "python",
   "pygments_lexer": "ipython3",
   "version": "3.5.3"
  }
 },
 "nbformat": 4,
 "nbformat_minor": 4
}
