{
 "cells": [
  {
   "cell_type": "code",
   "execution_count": 1,
   "metadata": {},
   "outputs": [
    {
     "name": "stdout",
     "output_type": "stream",
     "text": [
      "Dataset 'first-planet-266901:samhda_modeled' successfully created.\n"
     ]
    }
   ],
   "source": [
    "!bq --location=US mk --dataset samhda_modeled"
   ]
  },
  {
   "cell_type": "code",
   "execution_count": 9,
   "metadata": {},
   "outputs": [],
   "source": [
    "dataset_id = \"samhda_modeled\""
   ]
  },
  {
   "cell_type": "markdown",
   "metadata": {},
   "source": [
    "### create new modeled tables using CTAS statements"
   ]
  },
  {
   "cell_type": "code",
   "execution_count": 33,
   "metadata": {},
   "outputs": [
    {
     "data": {
      "text/html": [
       "<div>\n",
       "<style scoped>\n",
       "    .dataframe tbody tr th:only-of-type {\n",
       "        vertical-align: middle;\n",
       "    }\n",
       "\n",
       "    .dataframe tbody tr th {\n",
       "        vertical-align: top;\n",
       "    }\n",
       "\n",
       "    .dataframe thead th {\n",
       "        text-align: right;\n",
       "    }\n",
       "</style>\n",
       "<table border=\"1\" class=\"dataframe\">\n",
       "  <thead>\n",
       "    <tr style=\"text-align: right;\">\n",
       "      <th></th>\n",
       "    </tr>\n",
       "  </thead>\n",
       "  <tbody>\n",
       "  </tbody>\n",
       "</table>\n",
       "</div>"
      ],
      "text/plain": [
       "Empty DataFrame\n",
       "Columns: []\n",
       "Index: []"
      ]
     },
     "execution_count": 33,
     "metadata": {},
     "output_type": "execute_result"
    }
   ],
   "source": [
    "%%bigquery\n",
    "\n",
    "CREATE TABLE samhda_modeled.facility_information AS\n",
    "SELECT generate_uuid() as CASEID, *\n",
    "FROM\n",
    "(SELECT DISTINCT LST, CAST(CASE WHEN MHINTAKE = 1 THEN 'Yes' WHEN MHINTAKE = 0 THEN 'No' ELSE Null END as String) as MHINTAKE, SETTINGIP, SETTINGOP, FACILITYTYPE, OWNERSHP, CHILDAD,\n",
    "FROM samhda_staging. samhda_2018\n",
    "WHERE CASEID IS NOT NULL\n",
    "UNION DISTINCT\n",
    " \n",
    "SELECT DISTINCT LST, CAST(CASE WHEN MHINTAKE = 1 THEN 'Yes' WHEN MHINTAKE = 0 THEN 'No' ELSE Null END as String) as MHINTAKE, SETTINGIP, SETTINGOP, FACILITYTYPE, OWNERSHP, CHILDAD,\n",
    "FROM samhda_staging. samhda_2017\n",
    "WHERE CASEID IS NOT NULL\n",
    "UNION DISTINCT\n",
    " \n",
    "SELECT DISTINCT LST, CAST(CASE WHEN MHINTAKE = 1 THEN 'Yes' WHEN MHINTAKE = 0 THEN 'No' ELSE Null END as String) as MHINTAKE, SETTINGIP, SETTINGOP, FACILITYTYPE, OWNERSHP, CHILDAD,\n",
    "FROM samhda_staging. samhda_2016\n",
    "WHERE CASEID IS NOT NULL\n",
    "UNION DISTINCT\n",
    "\n",
    "SELECT DISTINCT LST, CAST(CASE WHEN MHINTAKE = 1 THEN 'Yes' WHEN MHINTAKE = 0 THEN 'No' ELSE Null END as String) as MHINTAKE, SETTINGIP, SETTINGOP, FACILITYTYPE, OWNERSHP, CHILDAD,\n",
    "FROM samhda_staging. samhda_2015\n",
    "WHERE CASEID IS NOT NULL\n",
    "UNION DISTINCT\n",
    "\n",
    "SELECT DISTINCT LST, CAST(CASE WHEN MHINTAKE = 1 THEN 'Yes' WHEN MHINTAKE = 0 THEN 'No' ELSE Null END as String) as MHINTAKE, SETTINGIP, SETTINGOP, FACILITYTYPE, OWNERSHP, CHILDAD,\n",
    "FROM samhda_staging. samhda_2014\n",
    "WHERE CASEID IS NOT NULL)\n",
    "\n",
    "\n",
    "\n",
    "ORDER BY LST;\n",
    " \n",
    " \n",
    " "
   ]
  },
  {
   "cell_type": "code",
   "execution_count": 34,
   "metadata": {},
   "outputs": [
    {
     "data": {
      "text/html": [
       "<div>\n",
       "<style scoped>\n",
       "    .dataframe tbody tr th:only-of-type {\n",
       "        vertical-align: middle;\n",
       "    }\n",
       "\n",
       "    .dataframe tbody tr th {\n",
       "        vertical-align: top;\n",
       "    }\n",
       "\n",
       "    .dataframe thead th {\n",
       "        text-align: right;\n",
       "    }\n",
       "</style>\n",
       "<table border=\"1\" class=\"dataframe\">\n",
       "  <thead>\n",
       "    <tr style=\"text-align: right;\">\n",
       "      <th></th>\n",
       "    </tr>\n",
       "  </thead>\n",
       "  <tbody>\n",
       "  </tbody>\n",
       "</table>\n",
       "</div>"
      ],
      "text/plain": [
       "Empty DataFrame\n",
       "Columns: []\n",
       "Index: []"
      ]
     },
     "execution_count": 34,
     "metadata": {},
     "output_type": "execute_result"
    }
   ],
   "source": [
    "%%bigquery\n",
    "\n",
    "CREATE TABLE samhda_modeled.facility_treatment AS\n",
    "SELECT generate_uuid() as CASEID, *\n",
    "FROM\n",
    "\n",
    "(SElECT DISTINCT CAST(CASE WHEN TREATMT = 1 THEN 'Yes' WHEN MHINTAKE = 0 THEN 'No' ELSE Null END as String) as TREATMT, TREATGRPTHRPY, TREATCOGTHRPY, TREATTRAUMATHRPY, ALZHDEMENTIA, SRVC31, SPECGRPEATING, TRAUMATICBRAIN,\n",
    "FROM samhda_staging. samhda_2018\n",
    "WHERE CASEID IS NOT NULL\n",
    "UNION DISTINCT\n",
    " \n",
    "SElECT DISTINCT CAST(CASE WHEN TREATMT = 1 THEN 'Yes' WHEN MHINTAKE = 0 THEN 'No' ELSE Null END as String) as TREATMT, TREATGRPTHRPY, TREATCOGTHRPY, TREATTRAUMATHRPY, ALZHDEMENTIA, SRVC31, SPECGRPEATING, TRAUMATICBRAIN,\n",
    "FROM samhda_staging. samhda_2017\n",
    "WHERE CASEID IS NOT NULL\n",
    "UNION DISTINCT\n",
    " \n",
    "SElECT DISTINCT CAST(CASE WHEN TREATMT = 1 THEN 'Yes' WHEN MHINTAKE = 0 THEN 'No' ELSE Null END as String) as TREATMT, TREATGRPTHRPY, TREATCOGTHRPY, TREATTRAUMATHRPY, ALZHDEMENTIA, SRVC31, SPECGRPEATING, TRAUMATICBRAIN,\n",
    "FROM samhda_staging. samhda_2016\n",
    "WHERE CASEID IS NOT NULL\n",
    "UNION DISTINCT\n",
    " \n",
    "SElECT DISTINCT CAST(CASE WHEN TREATMT = 1 THEN 'Yes' WHEN MHINTAKE = 0 THEN 'No' ELSE Null END as String) as TREATMT, TREATGRPTHRPY, TREATCOGTHRPY, TREATTRAUMATHRPY, ALZHDEMENTIA, SRVC31, SPECGRPEATING, TRAUMATICBRAIN,\n",
    "FROM samhda_staging. samhda_2015\n",
    "WHERE CASEID IS NOT NULL\n",
    "UNION DISTINCT\n",
    " \n",
    "SElECT DISTINCT CAST(CASE WHEN TREATMT = 1 THEN 'Yes' WHEN MHINTAKE = 0 THEN 'No' ELSE Null END as String) as TREATMT, TREATGRPTHRPY, TREATCOGTHRPY, TREATTRAUMATHRPY, ALZHDEMENTIA, SRVC31, SPECGRPEATING, TRAUMATICBRAIN,\n",
    "FROM samhda_staging. samhda_2014\n",
    "WHERE CASEID IS NOT NULL)\n",
    "\n",
    "\n",
    " \n",
    "ORDER BY CASEID;"
   ]
  },
  {
   "cell_type": "code",
   "execution_count": 35,
   "metadata": {},
   "outputs": [
    {
     "data": {
      "text/html": [
       "<div>\n",
       "<style scoped>\n",
       "    .dataframe tbody tr th:only-of-type {\n",
       "        vertical-align: middle;\n",
       "    }\n",
       "\n",
       "    .dataframe tbody tr th {\n",
       "        vertical-align: top;\n",
       "    }\n",
       "\n",
       "    .dataframe thead th {\n",
       "        text-align: right;\n",
       "    }\n",
       "</style>\n",
       "<table border=\"1\" class=\"dataframe\">\n",
       "  <thead>\n",
       "    <tr style=\"text-align: right;\">\n",
       "      <th></th>\n",
       "    </tr>\n",
       "  </thead>\n",
       "  <tbody>\n",
       "  </tbody>\n",
       "</table>\n",
       "</div>"
      ],
      "text/plain": [
       "Empty DataFrame\n",
       "Columns: []\n",
       "Index: []"
      ]
     },
     "execution_count": 35,
     "metadata": {},
     "output_type": "execute_result"
    }
   ],
   "source": [
    "%%bigquery\n",
    "\n",
    "CREATE TABLE samhda_modeled.facility_services AS\n",
    "SELECT generate_uuid() as CASEID, *\n",
    "FROM\n",
    "\n",
    "(SELECT DISTINCT MHINTCASEMGMT, CAST(CASE WHEN MHCHRONIC = 1 THEN 'Yes' WHEN MHCHRONIC = 0 THEN 'No' ELSE Null END as String) as MHCHRONIC, ILLNESSMGMT, PRIMARYCARE,FAMPSYCHED, SUPPHOUSING, SUPPEMPLOY, MHLEGAL, MHEMGCY, MHSUICIDE\n",
    "FROM samhda_staging. samhda_2018\n",
    "WHERE CASEID IS NOT NULL\n",
    "UNION DISTINCT\n",
    " \n",
    "SELECT DISTINCT MHINTCASEMGMT, CAST(CASE WHEN MHCHRONIC = 1 THEN 'Yes' WHEN MHCHRONIC = 0 THEN 'No' ELSE Null END as String) as MHCHRONIC, ILLNESSMGMT, PRIMARYCARE,FAMPSYCHED, SUPPHOUSING, SUPPEMPLOY, MHLEGAL, MHEMGCY, MHSUICIDE\n",
    "FROM samhda_staging. samhda_2017\n",
    "WHERE CASEID IS NOT NULL\n",
    "UNION DISTINCT\n",
    " \n",
    "SELECT DISTINCT MHINTCASEMGMT, CAST(CASE WHEN MHCHRONIC = 1 THEN 'Yes' WHEN MHCHRONIC = 0 THEN 'No' ELSE Null END as String) as MHCHRONIC, ILLNESSMGMT, PRIMARYCARE,FAMPSYCHED, SUPPHOUSING, SUPPEMPLOY, MHLEGAL, MHEMGCY, MHSUICIDE\n",
    "FROM samhda_staging. samhda_2016\n",
    "WHERE CASEID IS NOT NULL\n",
    "UNION DISTINCT\n",
    " \n",
    "SELECT DISTINCT MHINTCASEMGMT, CAST(CASE WHEN MHCHRONIC = 1 THEN 'Yes' WHEN MHCHRONIC = 0 THEN 'No' ELSE Null END as String) as MHCHRONIC, ILLNESSMGMT, PRIMARYCARE,FAMPSYCHED, SUPPHOUSING, SUPPEMPLOY, MHLEGAL, MHEMGCY, MHSUICIDE\n",
    "FROM samhda_staging. samhda_2015\n",
    "WHERE CASEID IS NOT NULL\n",
    "UNION DISTINCT\n",
    " \n",
    "SELECT DISTINCT MHINTCASEMGMT, CAST(CASE WHEN MHCHRONIC = 1 THEN 'Yes' WHEN MHCHRONIC = 0 THEN 'No' ELSE Null END as String) as MHCHRONIC, ILLNESSMGMT, PRIMARYCARE,FAMPSYCHED, SUPPHOUSING, SUPPEMPLOY, MHLEGAL, MHEMGCY, MHSUICIDE\n",
    "FROM samhda_staging. samhda_2015\n",
    "WHERE CASEID IS NOT NULL)\n",
    "\n",
    "ORDER BY CASEID;"
   ]
  },
  {
   "cell_type": "markdown",
   "metadata": {},
   "source": [
    "## Check for Primary Key"
   ]
  },
  {
   "cell_type": "code",
   "execution_count": 37,
   "metadata": {},
   "outputs": [
    {
     "data": {
      "text/html": [
       "<div>\n",
       "<style scoped>\n",
       "    .dataframe tbody tr th:only-of-type {\n",
       "        vertical-align: middle;\n",
       "    }\n",
       "\n",
       "    .dataframe tbody tr th {\n",
       "        vertical-align: top;\n",
       "    }\n",
       "\n",
       "    .dataframe thead th {\n",
       "        text-align: right;\n",
       "    }\n",
       "</style>\n",
       "<table border=\"1\" class=\"dataframe\">\n",
       "  <thead>\n",
       "    <tr style=\"text-align: right;\">\n",
       "      <th></th>\n",
       "      <th>f0_</th>\n",
       "    </tr>\n",
       "  </thead>\n",
       "  <tbody>\n",
       "    <tr>\n",
       "      <th>0</th>\n",
       "      <td>4359</td>\n",
       "    </tr>\n",
       "  </tbody>\n",
       "</table>\n",
       "</div>"
      ],
      "text/plain": [
       "    f0_\n",
       "0  4359"
      ]
     },
     "execution_count": 37,
     "metadata": {},
     "output_type": "execute_result"
    }
   ],
   "source": [
    "%%bigquery\n",
    "select count(*) from samhda_modeled.facility_information"
   ]
  },
  {
   "cell_type": "code",
   "execution_count": 39,
   "metadata": {},
   "outputs": [
    {
     "data": {
      "text/html": [
       "<div>\n",
       "<style scoped>\n",
       "    .dataframe tbody tr th:only-of-type {\n",
       "        vertical-align: middle;\n",
       "    }\n",
       "\n",
       "    .dataframe tbody tr th {\n",
       "        vertical-align: top;\n",
       "    }\n",
       "\n",
       "    .dataframe thead th {\n",
       "        text-align: right;\n",
       "    }\n",
       "</style>\n",
       "<table border=\"1\" class=\"dataframe\">\n",
       "  <thead>\n",
       "    <tr style=\"text-align: right;\">\n",
       "      <th></th>\n",
       "      <th>f0_</th>\n",
       "    </tr>\n",
       "  </thead>\n",
       "  <tbody>\n",
       "    <tr>\n",
       "      <th>0</th>\n",
       "      <td>4359</td>\n",
       "    </tr>\n",
       "  </tbody>\n",
       "</table>\n",
       "</div>"
      ],
      "text/plain": [
       "    f0_\n",
       "0  4359"
      ]
     },
     "execution_count": 39,
     "metadata": {},
     "output_type": "execute_result"
    }
   ],
   "source": [
    "%%bigquery\n",
    "select count(distinct CASEID) from samhda_modeled.facility_information"
   ]
  },
  {
   "cell_type": "code",
   "execution_count": 41,
   "metadata": {},
   "outputs": [
    {
     "data": {
      "text/html": [
       "<div>\n",
       "<style scoped>\n",
       "    .dataframe tbody tr th:only-of-type {\n",
       "        vertical-align: middle;\n",
       "    }\n",
       "\n",
       "    .dataframe tbody tr th {\n",
       "        vertical-align: top;\n",
       "    }\n",
       "\n",
       "    .dataframe thead th {\n",
       "        text-align: right;\n",
       "    }\n",
       "</style>\n",
       "<table border=\"1\" class=\"dataframe\">\n",
       "  <thead>\n",
       "    <tr style=\"text-align: right;\">\n",
       "      <th></th>\n",
       "      <th>f0_</th>\n",
       "    </tr>\n",
       "  </thead>\n",
       "  <tbody>\n",
       "    <tr>\n",
       "      <th>0</th>\n",
       "      <td>540</td>\n",
       "    </tr>\n",
       "  </tbody>\n",
       "</table>\n",
       "</div>"
      ],
      "text/plain": [
       "   f0_\n",
       "0  540"
      ]
     },
     "execution_count": 41,
     "metadata": {},
     "output_type": "execute_result"
    }
   ],
   "source": [
    "%%bigquery\n",
    "select count(*) from samhda_modeled.facility_treatment"
   ]
  },
  {
   "cell_type": "code",
   "execution_count": 40,
   "metadata": {},
   "outputs": [
    {
     "data": {
      "text/html": [
       "<div>\n",
       "<style scoped>\n",
       "    .dataframe tbody tr th:only-of-type {\n",
       "        vertical-align: middle;\n",
       "    }\n",
       "\n",
       "    .dataframe tbody tr th {\n",
       "        vertical-align: top;\n",
       "    }\n",
       "\n",
       "    .dataframe thead th {\n",
       "        text-align: right;\n",
       "    }\n",
       "</style>\n",
       "<table border=\"1\" class=\"dataframe\">\n",
       "  <thead>\n",
       "    <tr style=\"text-align: right;\">\n",
       "      <th></th>\n",
       "      <th>f0_</th>\n",
       "    </tr>\n",
       "  </thead>\n",
       "  <tbody>\n",
       "    <tr>\n",
       "      <th>0</th>\n",
       "      <td>540</td>\n",
       "    </tr>\n",
       "  </tbody>\n",
       "</table>\n",
       "</div>"
      ],
      "text/plain": [
       "   f0_\n",
       "0  540"
      ]
     },
     "execution_count": 40,
     "metadata": {},
     "output_type": "execute_result"
    }
   ],
   "source": [
    "%%bigquery\n",
    "select count(distinct CASEID) from samhda_modeled.facility_treatment"
   ]
  },
  {
   "cell_type": "code",
   "execution_count": 42,
   "metadata": {},
   "outputs": [
    {
     "data": {
      "text/html": [
       "<div>\n",
       "<style scoped>\n",
       "    .dataframe tbody tr th:only-of-type {\n",
       "        vertical-align: middle;\n",
       "    }\n",
       "\n",
       "    .dataframe tbody tr th {\n",
       "        vertical-align: top;\n",
       "    }\n",
       "\n",
       "    .dataframe thead th {\n",
       "        text-align: right;\n",
       "    }\n",
       "</style>\n",
       "<table border=\"1\" class=\"dataframe\">\n",
       "  <thead>\n",
       "    <tr style=\"text-align: right;\">\n",
       "      <th></th>\n",
       "      <th>f0_</th>\n",
       "    </tr>\n",
       "  </thead>\n",
       "  <tbody>\n",
       "    <tr>\n",
       "      <th>0</th>\n",
       "      <td>792</td>\n",
       "    </tr>\n",
       "  </tbody>\n",
       "</table>\n",
       "</div>"
      ],
      "text/plain": [
       "   f0_\n",
       "0  792"
      ]
     },
     "execution_count": 42,
     "metadata": {},
     "output_type": "execute_result"
    }
   ],
   "source": [
    "%%bigquery\n",
    "select count(*) from samhda_modeled.facility_services"
   ]
  },
  {
   "cell_type": "code",
   "execution_count": 43,
   "metadata": {},
   "outputs": [
    {
     "data": {
      "text/html": [
       "<div>\n",
       "<style scoped>\n",
       "    .dataframe tbody tr th:only-of-type {\n",
       "        vertical-align: middle;\n",
       "    }\n",
       "\n",
       "    .dataframe tbody tr th {\n",
       "        vertical-align: top;\n",
       "    }\n",
       "\n",
       "    .dataframe thead th {\n",
       "        text-align: right;\n",
       "    }\n",
       "</style>\n",
       "<table border=\"1\" class=\"dataframe\">\n",
       "  <thead>\n",
       "    <tr style=\"text-align: right;\">\n",
       "      <th></th>\n",
       "      <th>f0_</th>\n",
       "    </tr>\n",
       "  </thead>\n",
       "  <tbody>\n",
       "    <tr>\n",
       "      <th>0</th>\n",
       "      <td>792</td>\n",
       "    </tr>\n",
       "  </tbody>\n",
       "</table>\n",
       "</div>"
      ],
      "text/plain": [
       "   f0_\n",
       "0  792"
      ]
     },
     "execution_count": 43,
     "metadata": {},
     "output_type": "execute_result"
    }
   ],
   "source": [
    "%%bigquery\n",
    "select count(distinct CASEID) from samhda_modeled.facility_services"
   ]
  },
  {
   "cell_type": "markdown",
   "metadata": {},
   "source": [
    "## Apache Beam\n"
   ]
  },
  {
   "cell_type": "code",
   "execution_count": 3,
   "metadata": {},
   "outputs": [
    {
     "name": "stderr",
     "output_type": "stream",
     "text": [
      "/home/jupyter/Team-Foodies/venv/lib/python3.5/site-packages/apache_beam/io/gcp/bigquery.py:1421: BeamDeprecationWarning: options is deprecated since First stable release. References to <pipeline>.options will not be supported\n",
      "  experiments = p.options.view_as(DebugOptions).experiments or []\n",
      "INFO:apache_beam.runners.direct.direct_runner:Running pipeline with DirectRunner.\n",
      "INFO:apache_beam.io.gcp.bigquery_tools:Using location 'US' from table <TableReference\n",
      " datasetId: 'samhda_modeled'\n",
      " projectId: 'first-planet-266901'\n",
      " tableId: 'facility_information'> referenced by query SELECT CASEID, LST, MHINTAKE, SETTINGIP, SETTINGOP, FACILITYTYPE,OWNERSHP,CHILDAD FROM samhda_modeled.facility_information limit 20\n",
      "WARNING:apache_beam.io.gcp.bigquery_tools:Dataset first-planet-266901:temp_dataset_35a6726f51714d2c9c47bb57cd2d2bc5 does not exist so we will create it as temporary with location=US\n",
      "INFO:apache_beam.io.gcp.bigquery_tools:Created table first-planet-266901.samhda_modeled.facility_information_Beam with schema <TableSchema\n",
      " fields: [<TableFieldSchema\n",
      " fields: []\n",
      " mode: 'NULLABLE'\n",
      " name: 'CASEID'\n",
      " type: 'STRING'>, <TableFieldSchema\n",
      " fields: []\n",
      " mode: 'NULLABLE'\n",
      " name: 'LST'\n",
      " type: 'STRING'>, <TableFieldSchema\n",
      " fields: []\n",
      " mode: 'NULLABLE'\n",
      " name: 'MHINTAKE'\n",
      " type: 'STRING'>, <TableFieldSchema\n",
      " fields: []\n",
      " mode: 'NULLABLE'\n",
      " name: 'SETTINGIP'\n",
      " type: 'STRING'>, <TableFieldSchema\n",
      " fields: []\n",
      " mode: 'NULLABLE'\n",
      " name: 'SETTINGOP'\n",
      " type: 'INTEGER'>, <TableFieldSchema\n",
      " fields: []\n",
      " mode: 'NULLABLE'\n",
      " name: 'FACILITYTYPE'\n",
      " type: 'INTEGER'>, <TableFieldSchema\n",
      " fields: []\n",
      " mode: 'NULLABLE'\n",
      " name: 'OWNERSHP'\n",
      " type: 'INTEGER'>, <TableFieldSchema\n",
      " fields: []\n",
      " mode: 'NULLABLE'\n",
      " name: 'CHILDAD'\n",
      " type: 'INTEGER'>]>. Result: <Table\n",
      " creationTime: 1583204029343\n",
      " etag: '4GwiaW8gQ0E4npNQYTSRSw=='\n",
      " id: 'first-planet-266901:samhda_modeled.facility_information_Beam'\n",
      " kind: 'bigquery#table'\n",
      " lastModifiedTime: 1583204029397\n",
      " location: 'US'\n",
      " numBytes: 0\n",
      " numLongTermBytes: 0\n",
      " numRows: 0\n",
      " schema: <TableSchema\n",
      " fields: [<TableFieldSchema\n",
      " fields: []\n",
      " mode: 'NULLABLE'\n",
      " name: 'CASEID'\n",
      " type: 'STRING'>, <TableFieldSchema\n",
      " fields: []\n",
      " mode: 'NULLABLE'\n",
      " name: 'LST'\n",
      " type: 'STRING'>, <TableFieldSchema\n",
      " fields: []\n",
      " mode: 'NULLABLE'\n",
      " name: 'MHINTAKE'\n",
      " type: 'STRING'>, <TableFieldSchema\n",
      " fields: []\n",
      " mode: 'NULLABLE'\n",
      " name: 'SETTINGIP'\n",
      " type: 'STRING'>, <TableFieldSchema\n",
      " fields: []\n",
      " mode: 'NULLABLE'\n",
      " name: 'SETTINGOP'\n",
      " type: 'INTEGER'>, <TableFieldSchema\n",
      " fields: []\n",
      " mode: 'NULLABLE'\n",
      " name: 'FACILITYTYPE'\n",
      " type: 'INTEGER'>, <TableFieldSchema\n",
      " fields: []\n",
      " mode: 'NULLABLE'\n",
      " name: 'OWNERSHP'\n",
      " type: 'INTEGER'>, <TableFieldSchema\n",
      " fields: []\n",
      " mode: 'NULLABLE'\n",
      " name: 'CHILDAD'\n",
      " type: 'INTEGER'>]>\n",
      " selfLink: 'https://www.googleapis.com/bigquery/v2/projects/first-planet-266901/datasets/samhda_modeled/tables/facility_information_Beam'\n",
      " tableReference: <TableReference\n",
      " datasetId: 'samhda_modeled'\n",
      " projectId: 'first-planet-266901'\n",
      " tableId: 'facility_information_Beam'>\n",
      " type: 'TABLE'>.\n",
      "WARNING:apache_beam.io.gcp.bigquery_tools:Sleeping for 150 seconds before the write as BigQuery inserts can be routed to deleted table for 2 mins after the delete and create.\n",
      "INFO:apache_beam.io.filebasedsink:Starting finalize_write threads with num_shards: 1 (skipped: 0), batches: 1, num_threads: 1\n",
      "INFO:apache_beam.io.filebasedsink:Renamed 1 shards in 0.10 seconds.\n",
      "INFO:apache_beam.io.filebasedsink:Starting finalize_write threads with num_shards: 1 (skipped: 0), batches: 1, num_threads: 1\n",
      "INFO:apache_beam.io.filebasedsink:Renamed 1 shards in 0.10 seconds.\n"
     ]
    }
   ],
   "source": [
    "%run facility_information_beam.py"
   ]
  },
  {
   "cell_type": "code",
   "execution_count": null,
   "metadata": {},
   "outputs": [],
   "source": []
  },
  {
   "cell_type": "code",
   "execution_count": null,
   "metadata": {},
   "outputs": [],
   "source": []
  }
 ],
 "metadata": {
  "kernelspec": {
   "display_name": "Python (beam_venv)",
   "language": "python",
   "name": "beam_venv_kernel"
  },
  "language_info": {
   "codemirror_mode": {
    "name": "ipython",
    "version": 3
   },
   "file_extension": ".py",
   "mimetype": "text/x-python",
   "name": "python",
   "nbconvert_exporter": "python",
   "pygments_lexer": "ipython3",
   "version": "3.5.3"
  }
 },
 "nbformat": 4,
 "nbformat_minor": 4
}
